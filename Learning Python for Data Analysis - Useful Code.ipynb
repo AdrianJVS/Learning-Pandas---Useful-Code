{
 "cells": [
  {
   "cell_type": "markdown",
   "metadata": {},
   "source": [
    "# Review the Data"
   ]
  },
  {
   "cell_type": "raw",
   "metadata": {},
   "source": [
    "###Folders\n",
    "import os\n",
    "os.listdir()\n",
    "os.getcwd()\n",
    "os.chdir(path)\n",
    "\n",
    "###File\n",
    "pd.ExcelFile(file).sheet_names\n",
    "\n",
    "df.shape\n",
    "df.info()\n",
    "df.columns or list(df.columns)\n",
    "df['Column Name'].unique() or list(df['Column Name'].unique())\n",
    "type('Value')\n",
    "pd.set_option('display.max_colwidth', None)"
   ]
  },
  {
   "cell_type": "markdown",
   "metadata": {},
   "source": [
    "# Clean the data"
   ]
  },
  {
   "cell_type": "code",
   "execution_count": null,
   "metadata": {},
   "outputs": [],
   "source": [
    "df=df.fillna(0)\n",
    "df=df.replace(':','0')\n",
    "\n",
    "#Duplication within selected columns:\n",
    "df.duplicated(['Voucher No','Voucher Line Number', 'Distribution Line Number']).sum()\n",
    "#Duplicated within a single sheet:\n",
    "df.duplicated().sum()\n",
    "#Duplicated in all sheets:\n",
    "dfs = pd.read_excel('2dec.xlsx', sheet_name=None)\n",
    "df = pd.concat(dfs.values())\n",
    "print(df.duplicated().sum())\n",
    "#Display duplicated rows:\n",
    "df[df.duplicated()]\n",
    "#Display the 3rd tab, define row 8 as header, remove rows from 9 til 15\n",
    "pd.read_excel(file, sheet_name=2, header=8, skiprows=np.r_[9:15])\n",
    "#Remove columns based on condtition:\n",
    "df.drop([col for col in df.columns if 'Unnamed:' in col],axis=1,inplace=True)\n",
    "#Rename Columns\n",
    "df = df.rename(columns= {'TIME':'Country'})\n",
    "#Replace values:\n",
    "df.replace('Germany (until 1990 former territory of the FRG)','Germany')\n",
    "#Remove rows by index\n",
    "df = df.drop(labels=[29,30,31,54,55,56], axis=0)\n",
    "#Remove thousand separaters from string and convert to int\n",
    "df.Value.replace(',','',inplace=True,regex=True)\n",
    "df.Value=df.Value.astype('int')"
   ]
  },
  {
   "cell_type": "markdown",
   "metadata": {},
   "source": [
    "# Filter the data"
   ]
  },
  {
   "cell_type": "code",
   "execution_count": null,
   "metadata": {},
   "outputs": [],
   "source": [
    "df=df[(df['GEO']=='Poland') & (df['UNIT']=='Number')]\n",
    "df=df.loc[(df['GEO']=='Poland') & (df['UNIT']=='Number'),['GEO','ICCS','Value']]"
   ]
  },
  {
   "cell_type": "markdown",
   "metadata": {},
   "source": [
    "# Create Folder(s)"
   ]
  },
  {
   "cell_type": "code",
   "execution_count": 3,
   "metadata": {},
   "outputs": [],
   "source": [
    "import os\n",
    "\n",
    "# Create a folder in workig folder\n",
    "path = \"New One\"\n",
    "os.mkdir(path)\n",
    "\n",
    "# Create a folder with subfolder (exist_ok = True will prevent the error: folder already exists)\n",
    "path = \"New One/New Folder\"\n",
    "os.makedirs(path, exist_ok = True)"
   ]
  },
  {
   "cell_type": "markdown",
   "metadata": {},
   "source": [
    "# Manipulate the data"
   ]
  },
  {
   "cell_type": "code",
   "execution_count": null,
   "metadata": {},
   "outputs": [],
   "source": [
    "# Add Index\n",
    "df.set_index('Country', inplace=True)\n",
    "# Replace columns with rows\n",
    "dft=df.transpose()\n",
    "# Change into tuple\n",
    "year = tuple(list(dft['Year']))\n",
    "# Change into dictionary\n",
    "dft.to_dict()"
   ]
  },
  {
   "cell_type": "markdown",
   "metadata": {},
   "source": [
    "# Charts"
   ]
  },
  {
   "cell_type": "code",
   "execution_count": null,
   "metadata": {},
   "outputs": [],
   "source": [
    "# By default plot will use rows as X-axis, to use columns use this:\n",
    "df.T.plot()"
   ]
  },
  {
   "cell_type": "markdown",
   "metadata": {},
   "source": [
    "# Calculations"
   ]
  },
  {
   "cell_type": "code",
   "execution_count": null,
   "metadata": {},
   "outputs": [],
   "source": [
    "# YOY %\n",
    "dft['YoY'] = dft.pct_change().mul(100).round(2).astype(str)+'%'"
   ]
  }
 ],
 "metadata": {
  "kernelspec": {
   "display_name": "Python 3",
   "language": "python",
   "name": "python3"
  },
  "language_info": {
   "codemirror_mode": {
    "name": "ipython",
    "version": 3
   },
   "file_extension": ".py",
   "mimetype": "text/x-python",
   "name": "python",
   "nbconvert_exporter": "python",
   "pygments_lexer": "ipython3",
   "version": "3.8.6"
  }
 },
 "nbformat": 4,
 "nbformat_minor": 4
}
